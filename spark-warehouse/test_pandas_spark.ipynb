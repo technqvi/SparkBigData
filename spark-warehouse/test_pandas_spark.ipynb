{
 "cells": [
  {
   "cell_type": "code",
   "execution_count": 4,
   "id": "fbddf796-381f-4a65-ae44-decba1fe5cab",
   "metadata": {},
   "outputs": [],
   "source": [
    "from  pyspark.sql import SparkSession\n",
    "import pyspark.pandas as ps\n",
    "import pandas as pd\n",
    "import json\n",
    "from datetime import datetime,date\n",
    "import re\n",
    "\n"
   ]
  },
  {
   "cell_type": "code",
   "execution_count": 10,
   "id": "30bb4f0f-b375-4b34-8a00-2e85007b5420",
   "metadata": {},
   "outputs": [],
   "source": [
    "spark=SparkSession.builder.master(\"local\").appName(\"PySpark-Pandas\").config(\"spark.jars\", \"postgresql-42.3.6.jar\").getOrCreate()\n",
    "spark.conf.set(\"spark.sql.execution.arrow.enabled\", \"true\")"
   ]
  },
  {
   "cell_type": "code",
   "execution_count": 11,
   "id": "2da23ee4-bbf6-4000-8ef7-7b062d292299",
   "metadata": {},
   "outputs": [],
   "source": [
    "df_all = ps.DataFrame(\n",
    "    {'no': ['SR-ES-22-0001','SR-ES-22-0002' ,'SR-ES-22-0003'],\n",
    "     'subject': ['aaaa','bbbb', 'cccc'],\n",
    "     'open_date': [\"2022-07-01 12:25\", \"2022-07-01 22:25\", \"2022-07-01 08:30\"],\n",
    "     'open_date_str': [\"01 Jul 2022 12:25\", \"01 Jul 2022 22:25\", \"01 Jul 2022 08:30\"]\n",
    "    })\n",
    "\n"
   ]
  },
  {
   "cell_type": "code",
   "execution_count": 12,
   "id": "d47a0d02-92e4-4a61-b2ec-8800edb6272e",
   "metadata": {},
   "outputs": [
    {
     "data": {
      "text/html": [
       "<div>\n",
       "<style scoped>\n",
       "    .dataframe tbody tr th:only-of-type {\n",
       "        vertical-align: middle;\n",
       "    }\n",
       "\n",
       "    .dataframe tbody tr th {\n",
       "        vertical-align: top;\n",
       "    }\n",
       "\n",
       "    .dataframe thead th {\n",
       "        text-align: right;\n",
       "    }\n",
       "</style>\n",
       "<table border=\"1\" class=\"dataframe\">\n",
       "  <thead>\n",
       "    <tr style=\"text-align: right;\">\n",
       "      <th></th>\n",
       "      <th>no</th>\n",
       "      <th>subject</th>\n",
       "      <th>open_date</th>\n",
       "      <th>open_date_str</th>\n",
       "    </tr>\n",
       "  </thead>\n",
       "  <tbody>\n",
       "    <tr>\n",
       "      <th>0</th>\n",
       "      <td>SR-ES-22-0001</td>\n",
       "      <td>aaaa</td>\n",
       "      <td>2022-07-01 12:25</td>\n",
       "      <td>01 Jul 2022 12:25</td>\n",
       "    </tr>\n",
       "    <tr>\n",
       "      <th>1</th>\n",
       "      <td>SR-ES-22-0002</td>\n",
       "      <td>bbbb</td>\n",
       "      <td>2022-07-01 22:25</td>\n",
       "      <td>01 Jul 2022 22:25</td>\n",
       "    </tr>\n",
       "    <tr>\n",
       "      <th>2</th>\n",
       "      <td>SR-ES-22-0003</td>\n",
       "      <td>cccc</td>\n",
       "      <td>2022-07-01 08:30</td>\n",
       "      <td>01 Jul 2022 08:30</td>\n",
       "    </tr>\n",
       "  </tbody>\n",
       "</table>\n",
       "</div>"
      ],
      "text/plain": [
       "              no subject         open_date      open_date_str\n",
       "0  SR-ES-22-0001    aaaa  2022-07-01 12:25  01 Jul 2022 12:25\n",
       "1  SR-ES-22-0002    bbbb  2022-07-01 22:25  01 Jul 2022 22:25\n",
       "2  SR-ES-22-0003    cccc  2022-07-01 08:30  01 Jul 2022 08:30"
      ]
     },
     "execution_count": 12,
     "metadata": {},
     "output_type": "execute_result"
    }
   ],
   "source": [
    "df_all"
   ]
  },
  {
   "cell_type": "code",
   "execution_count": 13,
   "id": "5d8afd81-77c0-46ad-8aca-c1a6791c16fd",
   "metadata": {},
   "outputs": [
    {
     "name": "stdout",
     "output_type": "stream",
     "text": [
      "<class 'pyspark.pandas.frame.DataFrame'>\n",
      "Int64Index: 3 entries, 0 to 2\n",
      "Data columns (total 5 columns):\n",
      " #   Column         Non-Null Count  Dtype         \n",
      "---  ------         --------------  -----         \n",
      " 0   no             3 non-null      object        \n",
      " 1   subject        3 non-null      object        \n",
      " 2   open_date      3 non-null      object        \n",
      " 3   open_date_str  3 non-null      object        \n",
      " 4   open_issue     3 non-null      datetime64[ns]\n",
      "dtypes: datetime64[ns](1), object(4)"
     ]
    }
   ],
   "source": [
    "#df_all['open_date']=\n",
    "#ps.to_datetime(df_all['open_date'].to_numpy(),format='%Y-%m-%d %H:%M')\n",
    "df_all['open_issue']=ps.to_datetime(df_all['open_date_str'].tolist(),format='%d %b %Y %H:%M').tolist()\n",
    "df_all.info()"
   ]
  },
  {
   "cell_type": "code",
   "execution_count": null,
   "id": "4d1b6ff7-290c-41b7-9d0e-127151d17b1d",
   "metadata": {},
   "outputs": [],
   "source": []
  }
 ],
 "metadata": {
  "kernelspec": {
   "display_name": "Python 3 (ipykernel)",
   "language": "python",
   "name": "python3"
  },
  "language_info": {
   "codemirror_mode": {
    "name": "ipython",
    "version": 3
   },
   "file_extension": ".py",
   "mimetype": "text/x-python",
   "name": "python",
   "nbconvert_exporter": "python",
   "pygments_lexer": "ipython3",
   "version": "3.9.10"
  }
 },
 "nbformat": 4,
 "nbformat_minor": 5
}
