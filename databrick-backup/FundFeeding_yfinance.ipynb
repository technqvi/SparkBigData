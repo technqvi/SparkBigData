{
 "cells": [
  {
   "cell_type": "code",
   "execution_count": null,
   "metadata": {
    "application/vnd.databricks.v1+cell": {
     "inputWidgets": {},
     "nuid": "afba5acb-3180-4dd2-9079-ff806c8c3bc6",
     "showTitle": false,
     "title": ""
    }
   },
   "outputs": [],
   "source": [
    "import yfinance as yf\n",
    "from datetime import datetime\n",
    "\n",
    "from pyspark.sql import SparkSession\n",
    "import pyspark.pandas as ps"
   ]
  },
  {
   "cell_type": "code",
   "execution_count": null,
   "metadata": {
    "application/vnd.databricks.v1+cell": {
     "inputWidgets": {},
     "nuid": "0ff351e8-d781-4139-b7a3-c177853494f0",
     "showTitle": false,
     "title": ""
    }
   },
   "outputs": [],
   "source": [
    "list_symbol=['ACWI','QQQ','SPY','ETH-USD']\n",
    "start_param=\"2022-07-01\"\n",
    "end_param=\"2022-07-30\"\n",
    "#end_param=end= datetime.now().strftime(\"%Y-%m-%d\")\n"
   ]
  },
  {
   "cell_type": "code",
   "execution_count": null,
   "metadata": {
    "application/vnd.databricks.v1+cell": {
     "inputWidgets": {},
     "nuid": "ac90db89-fdcf-4df5-84c9-c72ded897e99",
     "showTitle": false,
     "title": ""
    }
   },
   "outputs": [],
   "source": [
    "spark=SparkSession.builder.appName(\"FundFeeding_Yahoo\").getOrCreate()\n",
    "#spark\n",
    "\n",
    "ps.set_option('compute.ops_on_diff_frames', True)\n",
    "#spark.conf.set(\"spark.sql.execution.arrow.pyspark.enabled\", \"true\")"
   ]
  },
  {
   "cell_type": "code",
   "execution_count": null,
   "metadata": {
    "application/vnd.databricks.v1+cell": {
     "inputWidgets": {},
     "nuid": "4b73906e-eea7-41a0-ba26-3de05132b1e7",
     "showTitle": false,
     "title": ""
    }
   },
   "outputs": [
    {
     "data": {
      "text/plain": [
       "ACWI\n",
       "\r",
       "[*********************100%***********************]  1 of 1 completed\n",
       "QQQ\n",
       "\r",
       "[*********************100%***********************]  1 of 1 completed\n",
       "SPY\n",
       "\r",
       "[*********************100%***********************]  1 of 1 completed\n",
       "ETH-USD\n",
       "\r",
       "[*********************100%***********************]  1 of 1 completed\n"
      ]
     },
     "metadata": {
      "application/vnd.databricks.v1+output": {
       "addedWidgets": {},
       "arguments": {},
       "data": "ACWI\n\r[*********************100%***********************]  1 of 1 completed\nQQQ\n\r[*********************100%***********************]  1 of 1 completed\nSPY\n\r[*********************100%***********************]  1 of 1 completed\nETH-USD\n\r[*********************100%***********************]  1 of 1 completed\n",
       "datasetInfos": [],
       "metadata": {},
       "removedWidgets": [],
       "type": "ansi"
      }
     },
     "output_type": "display_data"
    }
   ],
   "source": [
    "input_cols=['Ticker','Date','Open','High','Low','Close','Volume']\n",
    "list_not_found=[]\n",
    "df=ps.DataFrame(columns=input_cols)\n",
    "for ticker in list_symbol:\n",
    "\n",
    "   try:\n",
    "    print(ticker)\n",
    "\n",
    "    df_pd = yf.download(ticker, start=start_param, end=end_param)\n",
    "    dfx=  ps.from_pandas(df_pd) \n",
    "    \n",
    "    if (dfx.empty==False) or (dfx is not None):\n",
    "        dfx['Ticker'] = ticker\n",
    "        dfx=dfx.reset_index()\n",
    "        dfx=dfx[input_cols]\n",
    "        df=ps.concat([df,dfx])\n",
    "        #print(dfx.tail())\n",
    "        \n",
    "    else:\n",
    "        print(f\"{ticker} No data found for this date range, symbol may be delisted\")\n",
    "        list_not_found.append(ticker) \n",
    "\n",
    "\n",
    "   except Exception as ex:\n",
    "      print(str(ex))\n",
    "      list_not_found.append(ticker)  \n"
   ]
  },
  {
   "cell_type": "code",
   "execution_count": null,
   "metadata": {
    "application/vnd.databricks.v1+cell": {
     "inputWidgets": {},
     "nuid": "87c4c8ff-b955-4a30-98fd-b37f35a22249",
     "showTitle": false,
     "title": ""
    }
   },
   "outputs": [
    {
     "data": {
      "text/html": [
       "<div>\n",
       "<style scoped>\n",
       "    .dataframe tbody tr th:only-of-type {\n",
       "        vertical-align: middle;\n",
       "    }\n",
       "\n",
       "    .dataframe tbody tr th {\n",
       "        vertical-align: top;\n",
       "    }\n",
       "\n",
       "    .dataframe thead th {\n",
       "        text-align: right;\n",
       "    }\n",
       "</style>\n",
       "<table border=\"1\" class=\"dataframe\">\n",
       "  <thead>\n",
       "    <tr style=\"text-align: right;\">\n",
       "      <th></th>\n",
       "      <th>Ticker</th>\n",
       "      <th>Date</th>\n",
       "      <th>Open</th>\n",
       "      <th>High</th>\n",
       "      <th>Low</th>\n",
       "      <th>Close</th>\n",
       "      <th>Volume</th>\n",
       "    </tr>\n",
       "  </thead>\n",
       "  <tbody>\n",
       "    <tr>\n",
       "      <th>0</th>\n",
       "      <td>ACWI</td>\n",
       "      <td>2022-07-01</td>\n",
       "      <td>83.500000</td>\n",
       "      <td>84.550003</td>\n",
       "      <td>82.930000</td>\n",
       "      <td>84.480003</td>\n",
       "      <td>3230800</td>\n",
       "    </tr>\n",
       "    <tr>\n",
       "      <th>1</th>\n",
       "      <td>ACWI</td>\n",
       "      <td>2022-07-05</td>\n",
       "      <td>82.949997</td>\n",
       "      <td>84.070000</td>\n",
       "      <td>82.400002</td>\n",
       "      <td>84.050003</td>\n",
       "      <td>5108900</td>\n",
       "    </tr>\n",
       "    <tr>\n",
       "      <th>2</th>\n",
       "      <td>ACWI</td>\n",
       "      <td>2022-07-06</td>\n",
       "      <td>83.989998</td>\n",
       "      <td>84.589996</td>\n",
       "      <td>83.419998</td>\n",
       "      <td>84.169998</td>\n",
       "      <td>3530200</td>\n",
       "    </tr>\n",
       "    <tr>\n",
       "      <th>3</th>\n",
       "      <td>ACWI</td>\n",
       "      <td>2022-07-07</td>\n",
       "      <td>84.699997</td>\n",
       "      <td>85.650002</td>\n",
       "      <td>84.699997</td>\n",
       "      <td>85.510002</td>\n",
       "      <td>3197700</td>\n",
       "    </tr>\n",
       "    <tr>\n",
       "      <th>4</th>\n",
       "      <td>ACWI</td>\n",
       "      <td>2022-07-08</td>\n",
       "      <td>85.129997</td>\n",
       "      <td>85.900002</td>\n",
       "      <td>84.820000</td>\n",
       "      <td>85.449997</td>\n",
       "      <td>2727300</td>\n",
       "    </tr>\n",
       "  </tbody>\n",
       "</table>\n",
       "</div>"
      ]
     },
     "metadata": {
      "application/vnd.databricks.v1+output": {
       "addedWidgets": {},
       "arguments": {},
       "data": "<div>\n<style scoped>\n    .dataframe tbody tr th:only-of-type {\n        vertical-align: middle;\n    }\n\n    .dataframe tbody tr th {\n        vertical-align: top;\n    }\n\n    .dataframe thead th {\n        text-align: right;\n    }\n</style>\n<table border=\"1\" class=\"dataframe\">\n  <thead>\n    <tr style=\"text-align: right;\">\n      <th></th>\n      <th>Ticker</th>\n      <th>Date</th>\n      <th>Open</th>\n      <th>High</th>\n      <th>Low</th>\n      <th>Close</th>\n      <th>Volume</th>\n    </tr>\n  </thead>\n  <tbody>\n    <tr>\n      <th>0</th>\n      <td>ACWI</td>\n      <td>2022-07-01</td>\n      <td>83.500000</td>\n      <td>84.550003</td>\n      <td>82.930000</td>\n      <td>84.480003</td>\n      <td>3230800</td>\n    </tr>\n    <tr>\n      <th>1</th>\n      <td>ACWI</td>\n      <td>2022-07-05</td>\n      <td>82.949997</td>\n      <td>84.070000</td>\n      <td>82.400002</td>\n      <td>84.050003</td>\n      <td>5108900</td>\n    </tr>\n    <tr>\n      <th>2</th>\n      <td>ACWI</td>\n      <td>2022-07-06</td>\n      <td>83.989998</td>\n      <td>84.589996</td>\n      <td>83.419998</td>\n      <td>84.169998</td>\n      <td>3530200</td>\n    </tr>\n    <tr>\n      <th>3</th>\n      <td>ACWI</td>\n      <td>2022-07-07</td>\n      <td>84.699997</td>\n      <td>85.650002</td>\n      <td>84.699997</td>\n      <td>85.510002</td>\n      <td>3197700</td>\n    </tr>\n    <tr>\n      <th>4</th>\n      <td>ACWI</td>\n      <td>2022-07-08</td>\n      <td>85.129997</td>\n      <td>85.900002</td>\n      <td>84.820000</td>\n      <td>85.449997</td>\n      <td>2727300</td>\n    </tr>\n  </tbody>\n</table>\n</div>",
       "datasetInfos": [],
       "metadata": {},
       "removedWidgets": [],
       "textData": null,
       "type": "htmlSandbox"
      }
     },
     "output_type": "display_data"
    }
   ],
   "source": [
    "df.head()"
   ]
  },
  {
   "cell_type": "code",
   "execution_count": null,
   "metadata": {
    "application/vnd.databricks.v1+cell": {
     "inputWidgets": {},
     "nuid": "1bb7c2ca-187b-4434-9d9d-bf3bbbe050d9",
     "showTitle": false,
     "title": ""
    }
   },
   "outputs": [
    {
     "data": {
      "text/plain": [
       "             ACWI       QQQ       SPY   ETH-USD\n",
       "ACWI     1.000000  0.937565  0.989717  0.546418\n",
       "QQQ      0.937565  1.000000  0.971098  0.517412\n",
       "SPY      0.989717  0.971098  1.000000  0.569826\n",
       "ETH-USD  0.546418  0.517412  0.569826  1.000000\n"
      ]
     },
     "metadata": {
      "application/vnd.databricks.v1+output": {
       "addedWidgets": {},
       "arguments": {},
       "data": "             ACWI       QQQ       SPY   ETH-USD\nACWI     1.000000  0.937565  0.989717  0.546418\nQQQ      0.937565  1.000000  0.971098  0.517412\nSPY      0.989717  0.971098  1.000000  0.569826\nETH-USD  0.546418  0.517412  0.569826  1.000000\n",
       "datasetInfos": [],
       "metadata": {},
       "removedWidgets": [],
       "type": "ansi"
      }
     },
     "output_type": "display_data"
    }
   ],
   "source": [
    "df_corr=ps.DataFrame()\n",
    "for symbol in list_symbol:\n",
    "  df_by_symbol=ps.sql(\"select Close from {df} where Ticker={symbol}\")\n",
    "  df_by_symbol=df_by_symbol.rename(columns={'Close':symbol})   \n",
    "  #print(df_by_symbol.head())\n",
    "  df_corr=ps.concat([df_corr, df_by_symbol], axis=1)\n",
    "  \n",
    "  \n",
    "df_corr=df_corr.dropna()\n",
    "corrMatrix = df_corr.corr()\n",
    "\n",
    "print(corrMatrix)\n",
    "    "
   ]
  },
  {
   "cell_type": "code",
   "execution_count": null,
   "metadata": {
    "application/vnd.databricks.v1+cell": {
     "inputWidgets": {},
     "nuid": "b02ea006-f91e-4535-9721-aa15db308743",
     "showTitle": false,
     "title": ""
    }
   },
   "outputs": [],
   "source": []
  },
  {
   "cell_type": "code",
   "execution_count": null,
   "metadata": {
    "application/vnd.databricks.v1+cell": {
     "inputWidgets": {},
     "nuid": "79718e98-fb5c-4bf7-b875-3b8365ccada9",
     "showTitle": false,
     "title": ""
    }
   },
   "outputs": [
    {
     "data": {
      "text/html": [
       "<div>\n",
       "<style scoped>\n",
       "    .dataframe tbody tr th:only-of-type {\n",
       "        vertical-align: middle;\n",
       "    }\n",
       "\n",
       "    .dataframe tbody tr th {\n",
       "        vertical-align: top;\n",
       "    }\n",
       "\n",
       "    .dataframe thead th {\n",
       "        text-align: right;\n",
       "    }\n",
       "</style>\n",
       "<table border=\"1\" class=\"dataframe\">\n",
       "  <thead>\n",
       "    <tr style=\"text-align: right;\">\n",
       "      <th></th>\n",
       "      <th>ACWI</th>\n",
       "      <th>QQQ</th>\n",
       "      <th>SPY</th>\n",
       "      <th>ETH-USD</th>\n",
       "    </tr>\n",
       "  </thead>\n",
       "  <tbody>\n",
       "    <tr>\n",
       "      <th>0</th>\n",
       "      <td>84.480003</td>\n",
       "      <td>282.130005</td>\n",
       "      <td>381.239990</td>\n",
       "      <td>1059.767334</td>\n",
       "    </tr>\n",
       "    <tr>\n",
       "      <th>1</th>\n",
       "      <td>84.050003</td>\n",
       "      <td>286.959991</td>\n",
       "      <td>381.959991</td>\n",
       "      <td>1066.512817</td>\n",
       "    </tr>\n",
       "    <tr>\n",
       "      <th>2</th>\n",
       "      <td>84.169998</td>\n",
       "      <td>288.799988</td>\n",
       "      <td>383.250000</td>\n",
       "      <td>1073.766968</td>\n",
       "    </tr>\n",
       "    <tr>\n",
       "      <th>3</th>\n",
       "      <td>85.510002</td>\n",
       "      <td>294.980011</td>\n",
       "      <td>388.989990</td>\n",
       "      <td>1151.059082</td>\n",
       "    </tr>\n",
       "    <tr>\n",
       "      <th>4</th>\n",
       "      <td>85.449997</td>\n",
       "      <td>295.350006</td>\n",
       "      <td>388.670013</td>\n",
       "      <td>1134.541016</td>\n",
       "    </tr>\n",
       "  </tbody>\n",
       "</table>\n",
       "</div>"
      ]
     },
     "metadata": {
      "application/vnd.databricks.v1+output": {
       "addedWidgets": {},
       "arguments": {},
       "data": "<div>\n<style scoped>\n    .dataframe tbody tr th:only-of-type {\n        vertical-align: middle;\n    }\n\n    .dataframe tbody tr th {\n        vertical-align: top;\n    }\n\n    .dataframe thead th {\n        text-align: right;\n    }\n</style>\n<table border=\"1\" class=\"dataframe\">\n  <thead>\n    <tr style=\"text-align: right;\">\n      <th></th>\n      <th>ACWI</th>\n      <th>QQQ</th>\n      <th>SPY</th>\n      <th>ETH-USD</th>\n    </tr>\n  </thead>\n  <tbody>\n    <tr>\n      <th>0</th>\n      <td>84.480003</td>\n      <td>282.130005</td>\n      <td>381.239990</td>\n      <td>1059.767334</td>\n    </tr>\n    <tr>\n      <th>1</th>\n      <td>84.050003</td>\n      <td>286.959991</td>\n      <td>381.959991</td>\n      <td>1066.512817</td>\n    </tr>\n    <tr>\n      <th>2</th>\n      <td>84.169998</td>\n      <td>288.799988</td>\n      <td>383.250000</td>\n      <td>1073.766968</td>\n    </tr>\n    <tr>\n      <th>3</th>\n      <td>85.510002</td>\n      <td>294.980011</td>\n      <td>388.989990</td>\n      <td>1151.059082</td>\n    </tr>\n    <tr>\n      <th>4</th>\n      <td>85.449997</td>\n      <td>295.350006</td>\n      <td>388.670013</td>\n      <td>1134.541016</td>\n    </tr>\n  </tbody>\n</table>\n</div>",
       "datasetInfos": [],
       "metadata": {},
       "removedWidgets": [],
       "textData": null,
       "type": "htmlSandbox"
      }
     },
     "output_type": "display_data"
    }
   ],
   "source": [
    "df_corr"
   ]
  }
 ],
 "metadata": {
  "application/vnd.databricks.v1+notebook": {
   "dashboards": [],
   "language": "python",
   "notebookMetadata": {
    "pythonIndentUnit": 2
   },
   "notebookName": "FundFeeding_yfinance",
   "notebookOrigID": 1500559218953454,
   "widgets": {}
  },
  "kernelspec": {
   "display_name": "Python 3 (ipykernel)",
   "language": "python",
   "name": "python3"
  },
  "language_info": {
   "codemirror_mode": {
    "name": "ipython",
    "version": 3
   },
   "file_extension": ".py",
   "mimetype": "text/x-python",
   "name": "python",
   "nbconvert_exporter": "python",
   "pygments_lexer": "ipython3",
   "version": "3.9.12"
  }
 },
 "nbformat": 4,
 "nbformat_minor": 4
}
