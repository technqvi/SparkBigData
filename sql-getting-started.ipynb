{
 "cells": [
  {
   "cell_type": "code",
   "execution_count": 4,
   "id": "3dd75a79-ae93-4850-b6f6-7c1b42071e0f",
   "metadata": {},
   "outputs": [],
   "source": [
    "from pyspark.sql import SparkSession\n",
    "from pyspark.sql import functions as F\n",
    "\n",
    "#https://spark.apache.org/docs/latest/sql-getting-started.html"
   ]
  },
  {
   "cell_type": "code",
   "execution_count": 5,
   "id": "bda88924-fc7d-4510-bd04-ddc7865e5bcc",
   "metadata": {},
   "outputs": [],
   "source": [
    "import psycopg2\n",
    "import pandas as pd\n"
   ]
  },
  {
   "cell_type": "code",
   "execution_count": 6,
   "id": "7a6d601f-a34e-47da-a09d-0398056c34f3",
   "metadata": {},
   "outputs": [
    {
     "data": {
      "text/html": [
       "\n",
       "            <div>\n",
       "                <p><b>SparkSession - in-memory</b></p>\n",
       "                \n",
       "        <div>\n",
       "            <p><b>SparkContext</b></p>\n",
       "\n",
       "            <p><a href=\"http://ES-Pongthorn-T490.yipintsoigroup.com:4042\">Spark UI</a></p>\n",
       "\n",
       "            <dl>\n",
       "              <dt>Version</dt>\n",
       "                <dd><code>v3.2.1</code></dd>\n",
       "              <dt>Master</dt>\n",
       "                <dd><code>local[*]</code></dd>\n",
       "              <dt>AppName</dt>\n",
       "                <dd><code>Python Spark SQL</code></dd>\n",
       "            </dl>\n",
       "        </div>\n",
       "        \n",
       "            </div>\n",
       "        "
      ],
      "text/plain": [
       "<pyspark.sql.session.SparkSession at 0x219cfa343a0>"
      ]
     },
     "execution_count": 6,
     "metadata": {},
     "output_type": "execute_result"
    }
   ],
   "source": [
    "# spark = SparkSession.builder.appName(\"SimpleApp\").master(\"spark://localhost:7077\").getOrCreate()\n",
    "# sc = spark.sparkContext\n",
    "spark = SparkSession \\\n",
    "    .builder \\\n",
    "    .appName(\"Python Spark SQL\") \\\n",
    "    .getOrCreate()\n",
    "\n",
    "\n",
    "# spark = SparkSession.builder.config(\"spark.jars\", \"postgresql-42.3.6.jar\").appName(\"PySpark_Postgres\").getOrCreate()\n",
    "spark"
   ]
  },
  {
   "cell_type": "code",
   "execution_count": 8,
   "id": "ff3389ca-00ed-4822-a6ab-79c1cc887533",
   "metadata": {},
   "outputs": [
    {
     "name": "stdout",
     "output_type": "stream",
     "text": [
      "root\n",
      " |-- Symbol: string (nullable = true)\n",
      " |-- Type: string (nullable = true)\n",
      " |-- Amount: double (nullable = true)\n",
      " |-- Total: double (nullable = true)\n",
      " |-- AvgPrice: double (nullable = true)\n",
      "\n"
     ]
    }
   ],
   "source": [
    "#df = spark.read.option(\"header\",True).csv('test_data.csv')\n",
    "df=spark.read.csv('summary_binance.csv',inferSchema=True,header=True)\n",
    "df.printSchema()\n"
   ]
  },
  {
   "cell_type": "code",
   "execution_count": 9,
   "id": "90f76312-5588-4ffe-86bd-82dce91fb05c",
   "metadata": {},
   "outputs": [
    {
     "name": "stdout",
     "output_type": "stream",
     "text": [
      "+------+----+---------+----------+-----------+\n",
      "|Symbol|Type|   Amount|     Total|   AvgPrice|\n",
      "+------+----+---------+----------+-----------+\n",
      "|  ATOM| BUY|    13.48|  398.4496|   29.55858|\n",
      "|  ATOM|SELL|    14.05|  356.1869|   25.35138|\n",
      "|  AVAX| BUY| 12.08755| 896.13613|   74.13712|\n",
      "|  AVAX|SELL| 12.21432| 733.28059|    60.0345|\n",
      "|   BNB| BUY|  1.41702|  556.7298|  392.88777|\n",
      "|   BNB|SELL|    0.566|   202.336|   357.4841|\n",
      "|   BTC| BUY|  0.00813| 323.33441|39770.52966|\n",
      "|   BTC|SELL|   0.0044| 168.36033|38263.71089|\n",
      "|   ETH| BUY|    0.257| 700.35335| 2725.11031|\n",
      "|   ETH|SELL|  0.19098| 494.48152| 2589.14049|\n",
      "|  LUNA| BUY|     0.35|   29.3895|      83.97|\n",
      "|  LUNA|SELL|     0.35|   24.1395|      68.97|\n",
      "| MATIC| BUY|391.99925| 603.14717|    1.53864|\n",
      "| MATIC|SELL|366.73796| 433.00587|     1.1807|\n",
      "|   SOL| BUY|     5.38|  492.9615|   91.62853|\n",
      "|   SOL|SELL|  4.71047| 381.99063|   81.09397|\n",
      "|   UST| BUY|   2886.0| 2889.2221|    1.00112|\n",
      "|   UST|SELL|   2933.0|2453.15171|     0.8364|\n",
      "+------+----+---------+----------+-----------+\n",
      "\n"
     ]
    }
   ],
   "source": [
    "#df.select([\"Symbol\",\"AvgPrice\"]).show()\n",
    "\n",
    "# df.createOrReplaceTempView(\"crypto_transaction\")\n",
    "# sqlDF = spark.sql(\"SELECT * FROM crypto_transaction\")\n",
    "# sqlDF.show()\n",
    "\n",
    "df.show()"
   ]
  },
  {
   "cell_type": "code",
   "execution_count": 10,
   "id": "fc2dbef0-2aa3-4c6e-a696-0e1ce1f9f54b",
   "metadata": {},
   "outputs": [
    {
     "name": "stdout",
     "output_type": "stream",
     "text": [
      "+------+----+-----------+\n",
      "|Symbol|Type|   AvgPrice|\n",
      "+------+----+-----------+\n",
      "|  ATOM| BUY|   29.55858|\n",
      "|  AVAX| BUY|   74.13712|\n",
      "|   BNB| BUY|  392.88777|\n",
      "|   BTC| BUY|39770.52966|\n",
      "|   ETH| BUY| 2725.11031|\n",
      "|  LUNA| BUY|      83.97|\n",
      "| MATIC| BUY|    1.53864|\n",
      "|   SOL| BUY|   91.62853|\n",
      "|   UST| BUY|    1.00112|\n",
      "+------+----+-----------+\n",
      "\n"
     ]
    }
   ],
   "source": [
    "df.filter(F.col(\"Type\")==\"BUY\").select([\"Symbol\",\"Type\",\"AvgPrice\"]).show()"
   ]
  },
  {
   "cell_type": "code",
   "execution_count": null,
   "id": "dee93553-da48-4611-9ba6-474ac9e7e562",
   "metadata": {},
   "outputs": [],
   "source": []
  }
 ],
 "metadata": {
  "kernelspec": {
   "display_name": "Python 3 (ipykernel)",
   "language": "python",
   "name": "python3"
  },
  "language_info": {
   "codemirror_mode": {
    "name": "ipython",
    "version": 3
   },
   "file_extension": ".py",
   "mimetype": "text/x-python",
   "name": "python",
   "nbconvert_exporter": "python",
   "pygments_lexer": "ipython3",
   "version": "3.9.10"
  }
 },
 "nbformat": 4,
 "nbformat_minor": 5
}
