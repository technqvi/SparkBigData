{
 "cells": [
  {
   "cell_type": "code",
   "execution_count": 2,
   "id": "3020efcc-0af3-4884-9eb3-a18f643ef9e9",
   "metadata": {},
   "outputs": [],
   "source": [
    "import pyspark.pandas as ps"
   ]
  },
  {
   "cell_type": "code",
   "execution_count": 3,
   "id": "0462386a-c382-43a4-8e48-23b90aef0b36",
   "metadata": {},
   "outputs": [],
   "source": [
    "#https://spark.apache.org/docs/latest/api/python/user_guide/pandas_on_spark/pandas_pyspark.html"
   ]
  },
  {
   "cell_type": "code",
   "execution_count": 5,
   "id": "17e4cd16-6f38-41b7-a8dd-df44d4a3a3d0",
   "metadata": {},
   "outputs": [],
   "source": [
    "ps_df=ps.range(10)\n",
    "df=ps_df.to_pandas()\n"
   ]
  },
  {
   "cell_type": "code",
   "execution_count": 7,
   "id": "857f9b80-53b9-4a7f-9581-a39c3864dfb7",
   "metadata": {},
   "outputs": [
    {
     "data": {
      "text/plain": [
       "array([[0],\n",
       "       [1],\n",
       "       [2],\n",
       "       [3],\n",
       "       [4],\n",
       "       [5],\n",
       "       [6],\n",
       "       [7],\n",
       "       [8],\n",
       "       [9]], dtype=int64)"
      ]
     },
     "execution_count": 7,
     "metadata": {},
     "output_type": "execute_result"
    }
   ],
   "source": [
    "df.values"
   ]
  },
  {
   "cell_type": "code",
   "execution_count": null,
   "id": "c294f2e0-c5f4-4ae1-bfb2-89d0bca949d9",
   "metadata": {},
   "outputs": [],
   "source": []
  }
 ],
 "metadata": {
  "kernelspec": {
   "display_name": "Python 3 (ipykernel)",
   "language": "python",
   "name": "python3"
  },
  "language_info": {
   "codemirror_mode": {
    "name": "ipython",
    "version": 3
   },
   "file_extension": ".py",
   "mimetype": "text/x-python",
   "name": "python",
   "nbconvert_exporter": "python",
   "pygments_lexer": "ipython3",
   "version": "3.9.10"
  }
 },
 "nbformat": 4,
 "nbformat_minor": 5
}
