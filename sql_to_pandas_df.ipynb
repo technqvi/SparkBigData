{
 "cells": [
  {
   "cell_type": "code",
   "execution_count": 2,
   "id": "9f0da09d-e0bc-4bb2-818d-c04954bb5635",
   "metadata": {},
   "outputs": [],
   "source": [
    "\n",
    "import pandas as pd\n",
    "from pyspark.sql import SparkSession,SQLContext\n",
    "#https://pypi.org/project/pyarrow/"
   ]
  },
  {
   "cell_type": "code",
   "execution_count": 3,
   "id": "5b287f23-49c9-4e5f-ba13-d7c98dd820a3",
   "metadata": {},
   "outputs": [
    {
     "name": "stdout",
     "output_type": "stream",
     "text": [
      "<class 'pandas.core.frame.DataFrame'>\n",
      "RangeIndex: 4 entries, 0 to 3\n",
      "Data columns (total 2 columns):\n",
      " #   Column  Non-Null Count  Dtype \n",
      "---  ------  --------------  ----- \n",
      " 0   Name    4 non-null      object\n",
      " 1   Title   4 non-null      object\n",
      "dtypes: object(2)\n",
      "memory usage: 192.0+ bytes\n",
      "None\n"
     ]
    },
    {
     "data": {
      "text/html": [
       "<div>\n",
       "<style scoped>\n",
       "    .dataframe tbody tr th:only-of-type {\n",
       "        vertical-align: middle;\n",
       "    }\n",
       "\n",
       "    .dataframe tbody tr th {\n",
       "        vertical-align: top;\n",
       "    }\n",
       "\n",
       "    .dataframe thead th {\n",
       "        text-align: right;\n",
       "    }\n",
       "</style>\n",
       "<table border=\"1\" class=\"dataframe\">\n",
       "  <thead>\n",
       "    <tr style=\"text-align: right;\">\n",
       "      <th></th>\n",
       "      <th>Name</th>\n",
       "      <th>Title</th>\n",
       "    </tr>\n",
       "  </thead>\n",
       "  <tbody>\n",
       "    <tr>\n",
       "      <th>0</th>\n",
       "      <td>Scott</td>\n",
       "      <td>x</td>\n",
       "    </tr>\n",
       "    <tr>\n",
       "      <th>1</th>\n",
       "      <td>Jeff</td>\n",
       "      <td>y</td>\n",
       "    </tr>\n",
       "    <tr>\n",
       "      <th>2</th>\n",
       "      <td>Thomas</td>\n",
       "      <td>a</td>\n",
       "    </tr>\n",
       "    <tr>\n",
       "      <th>3</th>\n",
       "      <td>Ann</td>\n",
       "      <td>b</td>\n",
       "    </tr>\n",
       "  </tbody>\n",
       "</table>\n",
       "</div>"
      ],
      "text/plain": [
       "     Name Title\n",
       "0   Scott     x\n",
       "1    Jeff     y\n",
       "2  Thomas     a\n",
       "3     Ann     b"
      ]
     },
     "execution_count": 3,
     "metadata": {},
     "output_type": "execute_result"
    }
   ],
   "source": [
    "# pd_df=pd.read_csv(\"incident.csv\")\n",
    "data = [['Scott', 'x'], ['Jeff', 'y'], ['Thomas', 'a'],['Ann','b']] \n",
    " \n",
    "# Create the pandas DataFrame \n",
    "pd_df = pd.DataFrame(data, columns = ['Name', 'Title']) \n",
    "print(pd_df.info())  \n",
    "pd_df"
   ]
  },
  {
   "cell_type": "code",
   "execution_count": 7,
   "id": "991cb96f-57d6-4dfe-b416-525e364ba617",
   "metadata": {},
   "outputs": [],
   "source": [
    "\n",
    "# Create SparkSession \n",
    "spark = SparkSession.builder .appName(\"PandasToSparkDF\").getOrCreate() "
   ]
  },
  {
   "cell_type": "code",
   "execution_count": 8,
   "id": "65439218-ebb7-4af0-b464-bde40d449a70",
   "metadata": {},
   "outputs": [
    {
     "data": {
      "text/html": [
       "\n",
       "            <div>\n",
       "                <p><b>SparkSession - in-memory</b></p>\n",
       "                \n",
       "        <div>\n",
       "            <p><b>SparkContext</b></p>\n",
       "\n",
       "            <p><a href=\"http://ES-Pongthorn-T490.yipintsoigroup.com:4044\">Spark UI</a></p>\n",
       "\n",
       "            <dl>\n",
       "              <dt>Version</dt>\n",
       "                <dd><code>v3.2.1</code></dd>\n",
       "              <dt>Master</dt>\n",
       "                <dd><code>local[*]</code></dd>\n",
       "              <dt>AppName</dt>\n",
       "                <dd><code>PandasToSparkDF</code></dd>\n",
       "            </dl>\n",
       "        </div>\n",
       "        \n",
       "            </div>\n",
       "        "
      ],
      "text/plain": [
       "<pyspark.sql.session.SparkSession at 0x2510ac41760>"
      ]
     },
     "execution_count": 8,
     "metadata": {},
     "output_type": "execute_result"
    }
   ],
   "source": [
    "spark"
   ]
  },
  {
   "cell_type": "code",
   "execution_count": 16,
   "id": "436ed686-94c1-420f-b3b2-622450262feb",
   "metadata": {},
   "outputs": [],
   "source": [
    "\n",
    "import pandas as pd\n",
    "\n",
    "# from pyspark library import\n",
    "# SparkSession\n",
    "from pyspark.sql import SparkSession\n",
    "\n",
    "# Building the SparkSession and name\n",
    "# it :'pandas to spark'\n",
    "spark = SparkSession.builder.appName(\n",
    "\"pandas to spark\").getOrCreate()\n",
    "\n",
    "# Create the DataFrame with the help\n",
    "# of pd.DataFrame()\n",
    "data = [['Scott', 'x'], ['Jeff', 'y'], ['Thomas', 'a'],['Ann','b']] \n",
    " \n",
    "# Create the pandas DataFrame \n",
    "pd_df = pd.DataFrame(data, columns = ['Name', 'Title']) \n",
    "\n",
    "\n",
    "# enableing the Apache Arrow for converting\n",
    "# Pandas to pySpark DF(DataFrame)\n",
    "spark.conf.set(\"spark.sql.execution.arrow.enabled\", \"true\")\n",
    "\n",
    "# Creating the DataFrame\n",
    "sprak_arrow = spark.createDataFrame(pd_df)\n",
    "\n",
    "# Show the DataFrame\n",
    "\n"
   ]
  },
  {
   "cell_type": "code",
   "execution_count": 19,
   "id": "93e056a0-1abe-414e-9d81-a54e0956a110",
   "metadata": {},
   "outputs": [
    {
     "name": "stdout",
     "output_type": "stream",
     "text": [
      "+------+-----+\n",
      "|  Name|Title|\n",
      "+------+-----+\n",
      "| Scott|    x|\n",
      "|  Jeff|    y|\n",
      "|Thomas|    a|\n",
      "|   Ann|    b|\n",
      "+------+-----+\n",
      "\n"
     ]
    }
   ],
   "source": [
    "sprak_arrow.show()"
   ]
  },
  {
   "cell_type": "code",
   "execution_count": null,
   "id": "5f7043f1-076e-43bf-9c2b-deda6c1365c5",
   "metadata": {},
   "outputs": [],
   "source": []
  }
 ],
 "metadata": {
  "kernelspec": {
   "display_name": "Python 3 (ipykernel)",
   "language": "python",
   "name": "python3"
  },
  "language_info": {
   "codemirror_mode": {
    "name": "ipython",
    "version": 3
   },
   "file_extension": ".py",
   "mimetype": "text/x-python",
   "name": "python",
   "nbconvert_exporter": "python",
   "pygments_lexer": "ipython3",
   "version": "3.9.7"
  }
 },
 "nbformat": 4,
 "nbformat_minor": 5
}
