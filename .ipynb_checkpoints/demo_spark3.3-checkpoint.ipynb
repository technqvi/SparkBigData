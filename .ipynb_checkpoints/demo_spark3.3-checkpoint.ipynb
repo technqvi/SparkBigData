{
 "cells": [
  {
   "cell_type": "code",
   "execution_count": 6,
   "id": "c47e0cc6-798b-44c4-a0af-1a24f4bf2220",
   "metadata": {},
   "outputs": [],
   "source": [
    "from pyspark import SparkContext, SparkConf\n",
    "from pyspark.sql import SparkSession, SQLContext\n",
    "import os\n",
    "\n",
    "os.environ[\"JAVA_HOME\"] = \"C:\\Program Files\\Java\\jdk-19\"\n",
    "conf = SparkConf() \\\n",
    "    .setAppName(\"DemoSpark3.3\") \\\n",
    "    .setMaster(\"local\") \\\n",
    "    .set(\"spark.driver.extraClassPath\",\"C:/pyspark/*\")\n",
    "sc = SparkContext.getOrCreate(conf=conf)\n",
    "spark = SparkSession(sc)"
   ]
  },
  {
   "cell_type": "code",
   "execution_count": 13,
   "id": "6f9398f1-cf67-4d7f-8c69-f33515f3b15a",
   "metadata": {},
   "outputs": [
    {
     "name": "stdout",
     "output_type": "stream",
     "text": [
      "+-------------+-----------------+--------------------+--------+-----------+--------------------+-----------+------------+----------+--------------------+-----------------+-------+----------+------------------+-----------------+-----------+------+------------------------+\n",
      "|  Incident-ID|    Incident Date|Incident Closed Date|Severity|     Status|                Type|ServiceType|Product Type|     Brand|               Model|Serial No./CD-Key|Company|       ENQ|Problem Date Start| Problem Date End|Data Center|Branch|Customer Support Contact|\n",
      "+-------------+-----------------+--------------------+--------+-----------+--------------------+-----------+------------+----------+--------------------+-----------------+-------+----------+------------------+-----------------+-----------+------+------------------------+\n",
      "|SR-ES-22-1379|01 Sep 2022 11:15|   01 Sep 2022 22:28|   Minor|     Closed|    General Incident|   Incident|    Software|    VMWare|vRealize Automati...|          vRA1300|    AIS|ENQ/65-271| 01 Sep 2022 11:19|01 Sep 2022 13:28|      SILA1|   AIS|                    ITCO|\n",
      "|SR-ES-22-1380|01 Sep 2022 14:48|   12 Sep 2022 09:32|   Minor|     Closed|    General Incident|    Request|     Storage|    NetApp|             FAS8020|     451608000206|    AIS|ENQ/65-271| 01 Sep 2022 14:48|12 Sep 2022 09:32|       TLS1|   AIS|                    ITCO|\n",
      "|SR-ES-22-1381|01 Sep 2022 16:39|   02 Sep 2022 14:34|   Minor|     Closed|    General Incident|   Incident|     Storage|    NetApp|             FAS2520|     451502000178|    AIS|ENQ/65-271| 01 Sep 2022 16:43|02 Sep 2022 14:34|       TLS1|   AIS|                    ITCO|\n",
      "|SR-ES-22-1386|02 Sep 2022 16:24|   15 Sep 2022 12:34|   Minor|     Closed|    General Incident|    Request|    Software|TrendMicro|   Apex One Endpoint|     ApexOne10001|    AIS|ENQ/65-271| 02 Sep 2022 16:32|15 Sep 2022 12:34|      SILA1|   AIS|           Montri Lapkit|\n",
      "|SR-ES-22-1385|02 Sep 2022 16:37|   05 Sep 2022 19:07|   Minor|     Closed|    General Incident|    Request|     Storage|       YIP|               dummy|        dummy-ais|    AIS| dummy-ais| 02 Sep 2022 16:58|02 Sep 2022 16:58|        Yit|   Yit|    Thaspasut Panupap...|\n",
      "|SR-ES-22-1401|06 Sep 2022 16:10|   06 Sep 2022 17:30|   Minor|     Closed|    General Incident|   Incident|     Storage|    NetApp|             FAS8020|     451548000237|    AIS|ENQ/65-271| 06 Sep 2022 16:35|06 Sep 2022 17:30|      SILA1|   AIS|    Yuthapong Yingyon...|\n",
      "|SR-ES-22-1403|07 Sep 2022 09:26|   07 Sep 2022 10:17|   Minor|     Closed|    General Incident|   Incident|    Software|    VMWare|vRealize Automati...|          vRA1300|    AIS|ENQ/65-271| 07 Sep 2022 09:32|07 Sep 2022 10:17|      SILA1|   AIS|    Jariya Moongkheem...|\n",
      "|SR-ES-22-1404|07 Sep 2022 13:38|   07 Sep 2022 16:49|   Minor|     Closed|    General Incident|    Request|    Software|    VMWare|vRealize Automati...|          vRA1300|    AIS|ENQ/65-271| 07 Sep 2022 14:19|07 Sep 2022 16:49|      SILA1|   AIS|    Jariya Moongkheem...|\n",
      "|SR-ES-22-1434|13 Sep 2022 11:29|   13 Sep 2022 13:59|   Minor|     Closed|    General Incident|   Incident|    Software|    VMWare|vRealize Automati...|          vRA1300|    AIS|ENQ/65-271| 13 Sep 2022 13:03|13 Sep 2022 13:59|      SILA1|   AIS|       Rachot Tawronsiri|\n",
      "|SR-ES-22-1438|14 Sep 2022 10:40|   15 Sep 2022 17:03|   Major|     Closed|System Board Failure|   Incident|      Server|       HPE|ProLiant DL560 Gen10|       SGH035S316|    AIS|ENQ/63-267| 14 Sep 2022 10:40|14 Sep 2022 18:05|      SILA1|   AIS|      Phumipat Moon-udom|\n",
      "|SR-ES-22-1439|14 Sep 2022 13:00|                null|   Minor|In Progress|    General Incident|    Request|     Storage|    NetApp|             FAS8020|     451548000237|    AIS|ENQ/65-271| 14 Sep 2022 13:17|15 Sep 2022 17:05|      SILA1|   AIS|    Yuthapong Yingyon...|\n",
      "|SR-ES-22-1441|14 Sep 2022 14:18|   06 Oct 2022 13:44|   Major|     Closed|    General Incident|   Incident|     Storage|    NetApp|            FAS3220A|     450000010919|    AIS|ENQ/65-271| 14 Sep 2022 14:27|14 Sep 2022 15:04|       CWDC|   AIS|                    ITCO|\n",
      "|SR-ES-22-1440|14 Sep 2022 14:58|   14 Sep 2022 16:41|   Minor|     Closed|    General Incident|   Incident|    Software|    VMWare|vRealize Automati...|          vRA1300|    AIS|ENQ/65-271| 14 Sep 2022 15:03|14 Sep 2022 16:41|      SILA1|   AIS|    Jariya Moongkheem...|\n",
      "|SR-ES-22-1449|15 Sep 2022 14:32|   15 Sep 2022 18:21|   Minor|     Closed|    General Incident|   Incident|    Software|    VMWare|vRealize Automati...|          vRA1300|    AIS|ENQ/65-271| 15 Sep 2022 14:40|15 Sep 2022 18:21|      SILA1|   AIS|    Jariya Moongkheem...|\n",
      "|SR-ES-22-1470|15 Sep 2022 15:32|   22 Sep 2022 11:23|   Minor|     Closed|    General Incident|    Request|    Software|TrendMicro|   Apex One Endpoint|     ApexOne10001|    AIS|ENQ/65-271| 15 Sep 2022 15:32|22 Sep 2022 11:23|      SILA1|   AIS|           Montri Lapkit|\n",
      "|SR-ES-22-1450|16 Sep 2022 10:25|   22 Sep 2022 14:32|   Minor|     Closed|    General Incident|    Request|    Software|    VMWare|vRealize Automati...|          vRA1300|    AIS|ENQ/65-271| 16 Sep 2022 10:40|22 Sep 2022 14:32|      SILA1|   AIS|    Dollush Budsapava...|\n",
      "|SR-ES-22-1457|19 Sep 2022 12:50|                null|   Minor|    On Hold|Hard Disk Drive F...|   Incident|    Software|    RedHat|Red Hat Enterpris...|        RH00003#2|    AIS|ENQ/65-271| 19 Sep 2022 12:57|20 Sep 2022 21:47|       TLS1|   AIS|       Puttipong Niamsab|\n",
      "|SR-ES-22-1465|20 Sep 2022 01:01|   20 Sep 2022 06:32|   Major|     Closed|System Board Failure|   Incident|      Server|       HPE|ProLiant DL560 Gen10|       SGH035S31B|    AIS|ENQ/63-267| 20 Sep 2022 01:01|20 Sep 2022 06:32|       TLS1|   AIS|      Phumipat Moon-udom|\n",
      "|SR-ES-22-1461|20 Sep 2022 08:21|   20 Sep 2022 11:50|   Major|     Closed|      Memory Failure|   Incident|      Server|       HPE|ProLiant DL560 Gen10|       SGH035S31G|    AIS|ENQ/63-267| 20 Sep 2022 09:20|20 Sep 2022 11:36|       TLS1|   AIS|          Narong Mungdee|\n",
      "|SR-ES-22-1469|20 Sep 2022 09:40|   21 Sep 2022 09:57|   Minor|     Closed|    General Incident|   Incident|    Software|    VMWare|vRealize Automati...|          vRA1300|    AIS|ENQ/65-271| 20 Sep 2022 09:46|21 Sep 2022 09:57|      SILA1|   AIS|    Jariya Moongkheem...|\n",
      "+-------------+-----------------+--------------------+--------+-----------+--------------------+-----------+------------+----------+--------------------+-----------------+-------+----------+------------------+-----------------+-----------+------+------------------------+\n",
      "only showing top 20 rows\n",
      "\n"
     ]
    }
   ],
   "source": [
    "df=spark.read.options(delimiter=\",\", header=True).csv(\"Incident_AIS_From2022-09-01_To2022-10-07.csv\")"
   ]
  },
  {
   "cell_type": "code",
   "execution_count": null,
   "id": "7632e78e-f9c3-4444-ac52-9f3d12509a7a",
   "metadata": {},
   "outputs": [],
   "source": []
  }
 ],
 "metadata": {
  "kernelspec": {
   "display_name": "Python 3 (ipykernel)",
   "language": "python",
   "name": "python3"
  },
  "language_info": {
   "codemirror_mode": {
    "name": "ipython",
    "version": 3
   },
   "file_extension": ".py",
   "mimetype": "text/x-python",
   "name": "python",
   "nbconvert_exporter": "python",
   "pygments_lexer": "ipython3",
   "version": "3.9.12"
  }
 },
 "nbformat": 4,
 "nbformat_minor": 5
}
