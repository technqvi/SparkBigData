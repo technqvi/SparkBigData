{
 "cells": [
  {
   "cell_type": "code",
   "execution_count": 20,
   "id": "1b3a18a4-e283-4ca4-a925-fd3b98cc70b9",
   "metadata": {},
   "outputs": [],
   "source": [
    "from pyspark.sql import  SparkSession\n",
    "#https://sparkbyexamples.com/pyspark-tutorial/"
   ]
  },
  {
   "cell_type": "code",
   "execution_count": 26,
   "id": "5d9fc114-7b9f-41f6-96f4-5465ca845f43",
   "metadata": {},
   "outputs": [],
   "source": [
    "\n",
    "# Create SparkSession \n",
    "spark = SparkSession.builder \\\n",
    "      .master(\"local[1]\") \\\n",
    "      .appName(\"SparkByExamples.com\") \\\n",
    "      .getOrCreate() \n"
   ]
  },
  {
   "cell_type": "code",
   "execution_count": 33,
   "id": "70c9c66e-ec0a-42fc-91dc-67344cbba09d",
   "metadata": {},
   "outputs": [
    {
     "data": {
      "text/plain": [
       "ParallelCollectionRDD[11] at readRDDFromFile at PythonRDD.scala:274"
      ]
     },
     "execution_count": 33,
     "metadata": {},
     "output_type": "execute_result"
    }
   ],
   "source": [
    "# Create RDD from parallelize    \n",
    "dataList = [(\"Java\", 20000), (\"Python\", 100000), (\"Scala\", 3000)]\n",
    "rdd=spark.sparkContext.parallelize(dataList)\n",
    "rdd"
   ]
  },
  {
   "cell_type": "code",
   "execution_count": 39,
   "id": "58c2d4ab-096e-44b3-b520-9318b6b5bca5",
   "metadata": {},
   "outputs": [
    {
     "name": "stdout",
     "output_type": "stream",
     "text": [
      "root\n",
      " |-- firstname: string (nullable = true)\n",
      " |-- middlename: string (nullable = true)\n",
      " |-- lastname: string (nullable = true)\n",
      " |-- dob: string (nullable = true)\n",
      " |-- gender: string (nullable = true)\n",
      " |-- salary: long (nullable = true)\n",
      "\n"
     ]
    }
   ],
   "source": [
    "# createDataFrame\n",
    "\n",
    "data = [('James','','Smith','1991-04-01','M',3000),\n",
    "  ('Michael','Rose','','2000-05-19','M',4000),\n",
    "  ('Robert','','Williams','1978-09-05','M',4000),\n",
    "  ('Maria','Anne','Jones','1967-12-01','F',4000),\n",
    "  ('Jen','Mary','Brown','1980-02-17','F',-1)\n",
    "]\n",
    "columns = [\"firstname\",\"middlename\",\"lastname\",\"dob\",\"gender\",\"salary\"]\n",
    "df = spark.createDataFrame(data=data, schema = columns)\n",
    "df.printSchema()"
   ]
  },
  {
   "cell_type": "code",
   "execution_count": 41,
   "id": "7db337ec-626b-4dd2-bfe5-7b2065170909",
   "metadata": {},
   "outputs": [
    {
     "name": "stdout",
     "output_type": "stream",
     "text": [
      "root\n",
      " |-- Symbol: string (nullable = true)\n",
      " |-- Type: string (nullable = true)\n",
      " |-- Amount: string (nullable = true)\n",
      " |-- Total: string (nullable = true)\n",
      " |-- AvgPrice: string (nullable = true)\n",
      "\n"
     ]
    }
   ],
   "source": [
    "df=spark.read.csv('summary_binance.csv',header=True)\n",
    "df.printSchema()"
   ]
  },
  {
   "cell_type": "code",
   "execution_count": 42,
   "id": "b649a064-1a8c-4764-9f21-d5dbe1442b37",
   "metadata": {},
   "outputs": [
    {
     "name": "stdout",
     "output_type": "stream",
     "text": [
      "+------+----+---------+----------+-----------+\n",
      "|Symbol|Type|   Amount|     Total|   AvgPrice|\n",
      "+------+----+---------+----------+-----------+\n",
      "|  ATOM| BUY|    13.48|  398.4496|   29.55858|\n",
      "|  ATOM|SELL|    14.05|  356.1869|   25.35138|\n",
      "|  AVAX| BUY| 12.08755| 896.13613|   74.13712|\n",
      "|  AVAX|SELL| 12.21432| 733.28059|    60.0345|\n",
      "|   BNB| BUY|  1.41702|  556.7298|  392.88777|\n",
      "|   BNB|SELL|    0.566|   202.336|   357.4841|\n",
      "|   BTC| BUY|  0.00813| 323.33441|39770.52966|\n",
      "|   BTC|SELL|   0.0044| 168.36033|38263.71089|\n",
      "|   ETH| BUY|    0.257| 700.35335| 2725.11031|\n",
      "|   ETH|SELL|  0.19098| 494.48152| 2589.14049|\n",
      "|  LUNA| BUY|     0.35|   29.3895|      83.97|\n",
      "|  LUNA|SELL|     0.35|   24.1395|      68.97|\n",
      "| MATIC| BUY|391.99925| 603.14717|    1.53864|\n",
      "| MATIC|SELL|366.73796| 433.00587|     1.1807|\n",
      "|   SOL| BUY|     5.38|  492.9615|   91.62853|\n",
      "|   SOL|SELL|  4.71047| 381.99063|   81.09397|\n",
      "|   UST| BUY|     2886| 2889.2221|    1.00112|\n",
      "|   UST|SELL|     2933|2453.15171|     0.8364|\n",
      "+------+----+---------+----------+-----------+\n",
      "\n"
     ]
    }
   ],
   "source": [
    "df.show()"
   ]
  },
  {
   "cell_type": "code",
   "execution_count": 43,
   "id": "52568f50-986a-4e16-821a-1e3e861eb671",
   "metadata": {},
   "outputs": [
    {
     "name": "stdout",
     "output_type": "stream",
     "text": [
      "+----+--------+\n",
      "|Type|count(1)|\n",
      "+----+--------+\n",
      "| BUY|       9|\n",
      "|SELL|       9|\n",
      "+----+--------+\n",
      "\n"
     ]
    }
   ],
   "source": [
    "df.createOrReplaceTempView(\"BinanceBuySell\")\n",
    "dfGroupByType=spark.sql(\"select Type , count(*) from  BinanceBuySell group by Type\")\n",
    "dfGroupByType.show()"
   ]
  },
  {
   "cell_type": "code",
   "execution_count": null,
   "id": "b181342b-2bc5-4805-9704-cf0f9da54641",
   "metadata": {},
   "outputs": [],
   "source": []
  }
 ],
 "metadata": {
  "kernelspec": {
   "display_name": "Python 3 (ipykernel)",
   "language": "python",
   "name": "python3"
  },
  "language_info": {
   "codemirror_mode": {
    "name": "ipython",
    "version": 3
   },
   "file_extension": ".py",
   "mimetype": "text/x-python",
   "name": "python",
   "nbconvert_exporter": "python",
   "pygments_lexer": "ipython3",
   "version": "3.9.10"
  }
 },
 "nbformat": 4,
 "nbformat_minor": 5
}
